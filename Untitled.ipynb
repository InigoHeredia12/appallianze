{
 "cells": [
  {
   "cell_type": "code",
   "execution_count": null,
   "id": "3bf58a90-416e-486f-b520-8268ceff8ec2",
   "metadata": {},
   "outputs": [],
   "source": [
    "import streamlit as st \n",
    "from etfs_data import ETFs_Data\n",
    "\n",
    "# Titulo de la aplicacion\n",
    "st.title(\"analisis de ETFs\""
   ]
  }
 ],
 "metadata": {
  "kernelspec": {
   "display_name": "Python 3 (ipykernel)",
   "language": "python",
   "name": "python3"
  },
  "language_info": {
   "codemirror_mode": {
    "name": "ipython",
    "version": 3
   },
   "file_extension": ".py",
   "mimetype": "text/x-python",
   "name": "python",
   "nbconvert_exporter": "python",
   "pygments_lexer": "ipython3",
   "version": "3.12.4"
  }
 },
 "nbformat": 4,
 "nbformat_minor": 5
}
